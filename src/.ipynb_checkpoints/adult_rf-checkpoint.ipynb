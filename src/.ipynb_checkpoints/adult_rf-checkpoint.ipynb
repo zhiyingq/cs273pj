{
 "cells": [
  {
   "cell_type": "code",
   "execution_count": 3,
   "metadata": {},
   "outputs": [],
   "source": [
    "from data_loader_df import *\n",
    "import sys\n",
    "import numpy\n",
    "import pandas as pd"
   ]
  },
  {
   "cell_type": "code",
   "execution_count": 4,
   "metadata": {},
   "outputs": [
    {
     "name": "stdout",
     "output_type": "stream",
     "text": [
      "[[    62  68268      9 ...      1      0      0]\n",
      " [    50 215990      9 ...      1      0      0]\n",
      " [    36 185405      9 ...      1      0      0]\n",
      " ...\n",
      " [    30 231263      9 ...      1      0      0]\n",
      " [    30 197558      9 ...      1      0      0]\n",
      " [    51  37237      9 ...      1      0      0]]\n"
     ]
    }
   ],
   "source": [
    "train_file_path = \"../data/adult.data\"\n",
    "test_file_path = \"../data/adult.test\"\n",
    "train_X, train_Y, _, __, test_X, test_Y = load_all_data(train_file_path, test_file_path, 0, False)\n",
    "print (train_X)"
   ]
  },
  {
   "cell_type": "code",
   "execution_count": null,
   "metadata": {},
   "outputs": [],
   "source": []
  }
 ],
 "metadata": {
  "kernelspec": {
   "display_name": "Python 2",
   "language": "python",
   "name": "python2"
  },
  "language_info": {
   "codemirror_mode": {
    "name": "ipython",
    "version": 2
   },
   "file_extension": ".py",
   "mimetype": "text/x-python",
   "name": "python",
   "nbconvert_exporter": "python",
   "pygments_lexer": "ipython2",
   "version": "2.7.15"
  }
 },
 "nbformat": 4,
 "nbformat_minor": 2
}
