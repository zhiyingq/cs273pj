{
 "cells": [
  {
   "cell_type": "code",
   "execution_count": 1,
   "metadata": {},
   "outputs": [],
   "source": [
    "from data_loader_df import *\n",
    "import sys\n",
    "import numpy\n",
    "import pandas as pd\n",
    "from sklearn.preprocessing import LabelEncoder\n",
    "from sklearn.ensemble import RandomForestClassifier\n",
    "from sklearn.model_selection import train_test_split,cross_val_score,KFold,GridSearchCV\n",
    "from sklearn import metrics\n",
    "from sklearn.tree import DecisionTreeClassifier\n",
    "import matplotlib.pylab as plt"
   ]
  },
  {
   "cell_type": "code",
   "execution_count": 2,
   "metadata": {},
   "outputs": [],
   "source": [
    "train_file_path = \"../data/adult.data\"\n",
    "test_file_path = \"../data/adult.test\"\n",
    "train_X, train_Y, _, _, test_X, test_Y = load_all_data(train_file_path, test_file_path, valid_rate=0, is_df=False, norm=False, one_hot=False)"
   ]
  },
  {
   "cell_type": "code",
   "execution_count": 43,
   "metadata": {},
   "outputs": [
    {
     "name": "stdout",
     "output_type": "stream",
     "text": [
      "[62 ' Local-gov' 68268 ' HS-grad' 9 ' Married-civ-spouse'\n",
      " ' Transport-moving' ' Husband' ' White' ' Male' 0 0 40 ' United-States']\n",
      "[25 ' Private' 226802 ' 11th' 7 ' Never-married' ' Machine-op-inspct'\n",
      " ' Own-child' ' Black' ' Male' 0 0 40 ' United-States']\n",
      "(30162, 14) (15060, 14)\n"
     ]
    }
   ],
   "source": [
    "print train_X[0]\n",
    "print test_X[0]\n",
    "print train_X.shape, test_X.shape"
   ]
  },
  {
   "cell_type": "code",
   "execution_count": 3,
   "metadata": {},
   "outputs": [],
   "source": [
    "#For trees, we should use label encoding rather than one hot to transfrom category feature\n",
    "#preprocess: combine all the data to do label encoding\n",
    "dataset = np.concatenate((train_X, test_X), axis=0)\n",
    "#trasfrom all features if needed\n",
    "for j in xrange(14):#14 features in total\n",
    "    if type(dataset[0][j]) == str:\n",
    "        labelencoder = LabelEncoder()\n",
    "        dataset[:, j] = labelencoder.fit_transform(dataset[:, j])"
   ]
  },
  {
   "cell_type": "code",
   "execution_count": 45,
   "metadata": {},
   "outputs": [
    {
     "name": "stdout",
     "output_type": "stream",
     "text": [
      "[62 1 68268 11 9 2 13 0 4 1 0 0 40 38]\n",
      "(45222, 14)\n"
     ]
    }
   ],
   "source": [
    "#Test! if data is well transformed\n",
    "print dataset[0]\n",
    "print dataset.shape"
   ]
  },
  {
   "cell_type": "code",
   "execution_count": 4,
   "metadata": {},
   "outputs": [
    {
     "name": "stdout",
     "output_type": "stream",
     "text": [
      "[62 1 68268 11 9 2 13 0 4 1 0 0 40 38]\n",
      "[25 2 226802 1 7 4 6 3 2 1 0 0 40 38]\n",
      "(30162, 14) (15060, 14)\n"
     ]
    }
   ],
   "source": [
    "#split dataset back to train, validation, test\n",
    "train_X, test_X = dataset[:30162], dataset[30162:]\n",
    "print train_X[0]\n",
    "print test_X[0]\n",
    "print train_X.shape, test_X.shape"
   ]
  },
  {
   "cell_type": "code",
   "execution_count": 47,
   "metadata": {},
   "outputs": [
    {
     "name": "stdout",
     "output_type": "stream",
     "text": [
      "Accuracy: 84.920319 \n",
      "Auc: 0.770834\n"
     ]
    }
   ],
   "source": [
    "#Test random forest model: have a taste with some default setting\n",
    "rf = RandomForestClassifier(n_estimators=100) #number of weak estimators, popular setting is 100\n",
    "#cv_results = cross_val_score(rf,train_X,train_Y,cv=5)\n",
    "#print(\"CV validation accuracy\", cv_results.mean()*100)\n",
    "rf.fit(train_X,train_Y)\n",
    "prediction_rf = rf.predict(test_X)\n",
    "print (\"Accuracy: %f \" % (100*metrics.accuracy_score(test_Y, prediction_rf)))\n",
    "print (\"Auc: %f\" % metrics.roc_auc_score(test_Y, prediction_rf))"
   ]
  },
  {
   "cell_type": "code",
   "execution_count": 5,
   "metadata": {},
   "outputs": [
    {
     "name": "stdout",
     "output_type": "stream",
     "text": [
      "('Best', 0.8611166368277966)\n",
      "('params', {'max_features': 8, 'n_estimators': 110, 'min_samples_leaf': 10})\n"
     ]
    }
   ],
   "source": [
    "#tune parameters\n",
    "#the model contains parameters of: n_estimators, max_features, min_samples_leaf\n",
    "val_max_features = range(2, 16, 2)#2,4,6,...14, 14 means use all of them\n",
    "val_n_estimators = range(20, 200, 30)\n",
    "val_min_samples_leaf = range(10, 60, 10)\n",
    "\n",
    "rf=RandomForestClassifier()\n",
    "kf=KFold(n_splits=5)## 5-cross-validation\n",
    "param_grid=dict(n_estimators=val_n_estimators,max_features=val_max_features,min_samples_leaf=val_min_samples_leaf)\n",
    "grid=GridSearchCV(estimator=rf,param_grid=param_grid,cv=kf)\n",
    "gres=grid.fit(train_X,train_Y)\n",
    "print(\"Best\",gres.best_score_)\n",
    "print(\"params\",gres.best_params_)"
   ]
  },
  {
   "cell_type": "code",
   "execution_count": null,
   "metadata": {},
   "outputs": [],
   "source": [
    "import pickle\n",
    "with open('rf.pickle', 'w') as f:\n",
    "    pickle.dump([gres.best_score_, gres.best_params_], f)"
   ]
  },
  {
   "cell_type": "code",
   "execution_count": 6,
   "metadata": {},
   "outputs": [
    {
     "name": "stdout",
     "output_type": "stream",
     "text": [
      "Test dataset: Accuracy: 85.697211 \n",
      "Auc: 0.774526\n",
      "Train dataset: Accuracy: 89.148598 \n"
     ]
    }
   ],
   "source": [
    "rf=RandomForestClassifier(n_estimators=110,max_features=8,min_samples_leaf=10)\n",
    "rf.fit(train_X,train_Y)\n",
    "\n",
    "prediction = rf.predict(test_X)\n",
    "print(\"Test dataset: Accuracy: %f \" % (100*metrics.accuracy_score(test_Y, prediction)))\n",
    "print (\"Auc: %f\" % metrics.roc_auc_score(test_Y, prediction))\n",
    "\n",
    "pred_train = rf.predict(train_X)\n",
    "print(\"Train dataset: Accuracy: %f \" % (100*metrics.accuracy_score(train_Y, pred_train)))"
   ]
  },
  {
   "cell_type": "code",
   "execution_count": 7,
   "metadata": {},
   "outputs": [
    {
     "name": "stdout",
     "output_type": "stream",
     "text": [
      "feature significances：[0.08619185 0.01654611 0.07174874 0.0232381  0.16037789 0.08173318\n",
      " 0.04000347 0.23266985 0.00260084 0.00426537 0.18373738 0.04534729\n",
      " 0.04883964 0.0027003 ]\n"
     ]
    }
   ],
   "source": [
    "print ('feature significances：%s' % rf.feature_importances_)"
   ]
  },
  {
   "cell_type": "code",
   "execution_count": 34,
   "metadata": {},
   "outputs": [
    {
     "name": "stdout",
     "output_type": "stream",
     "text": [
      "Accuracy: 80.073041 \n"
     ]
    }
   ],
   "source": [
    "# Test Decision Tree model: have a taste with some default setting\n",
    "dt = DecisionTreeClassifier()\n",
    "#cv_res=cross_val_score()\n",
    "dt.fit(train_X,train_Y)\n",
    "prediction = dt.predict(test_X)\n",
    "print(\"Accuracy: %f \" % (100*accuracy_score(test_Y, prediction)))"
   ]
  },
  {
   "cell_type": "code",
   "execution_count": 38,
   "metadata": {},
   "outputs": [
    {
     "data": {
      "text/plain": [
       "0.7370639036924248"
      ]
     },
     "execution_count": 38,
     "metadata": {},
     "output_type": "execute_result"
    }
   ],
   "source": [
    "#compute auc\n",
    "metrics.roc_auc_score(test_Y, prediction)"
   ]
  },
  {
   "cell_type": "code",
   "execution_count": 8,
   "metadata": {},
   "outputs": [
    {
     "name": "stdout",
     "output_type": "stream",
     "text": [
      "('Best', 0.8536569193024335)\n",
      "('params', {'max_features': 8, 'max_depth': 44, 'min_samples_leaf': 50})\n"
     ]
    }
   ],
   "source": [
    "#tune parameters for decision tree\n",
    "#parameters: max_depth, min_samples_leaf, max_features\n",
    "val_max_features = range(2, 16, 2)#2,4,6,...14, 14 means use all of them\n",
    "val_max_depth = range(4, 64, 8)\n",
    "val_min_samples_leaf = range(10, 60, 10)\n",
    "\n",
    "dt = DecisionTreeClassifier()\n",
    "kf=KFold(n_splits=5)## 5-cross-validation\n",
    "param_grid=dict(max_depth=val_max_depth,max_features=val_max_features,min_samples_leaf=val_min_samples_leaf)\n",
    "grid=GridSearchCV(estimator=dt,param_grid=param_grid,cv=kf)\n",
    "gres=grid.fit(train_X,train_Y)\n",
    "print(\"Best\",gres.best_score_)\n",
    "print(\"params\",gres.best_params_)"
   ]
  },
  {
   "cell_type": "code",
   "execution_count": 9,
   "metadata": {},
   "outputs": [],
   "source": [
    "import pickle\n",
    "with open('dt.pickle', 'w') as f2:\n",
    "    pickle.dump([gres.best_score_, gres.best_params_], f2)"
   ]
  },
  {
   "cell_type": "code",
   "execution_count": 12,
   "metadata": {},
   "outputs": [
    {
     "name": "stdout",
     "output_type": "stream",
     "text": [
      "Test dataset: Accuracy: 84.800797 \n",
      "Auc: 0.767673\n",
      "Train dataset: Accuracy: 85.988993 \n"
     ]
    }
   ],
   "source": [
    "dt = DecisionTreeClassifier(max_depth=44, max_features=8, min_samples_leaf=50)\n",
    "dt.fit(train_X,train_Y)\n",
    "prediction = dt.predict(test_X)\n",
    "\n",
    "print(\"Test dataset: Accuracy: %f \" % (100*metrics.accuracy_score(test_Y, prediction)))\n",
    "print (\"Auc: %f\" % metrics.roc_auc_score(test_Y, prediction))\n",
    "\n",
    "pred_train = dt.predict(train_X)\n",
    "print(\"Train dataset: Accuracy: %f \" % (100*metrics.accuracy_score(train_Y, pred_train)))"
   ]
  }
 ],
 "metadata": {
  "kernelspec": {
   "display_name": "Python 2",
   "language": "python",
   "name": "python2"
  },
  "language_info": {
   "codemirror_mode": {
    "name": "ipython",
    "version": 2
   },
   "file_extension": ".py",
   "mimetype": "text/x-python",
   "name": "python",
   "nbconvert_exporter": "python",
   "pygments_lexer": "ipython2",
   "version": "2.7.15"
  }
 },
 "nbformat": 4,
 "nbformat_minor": 2
}
