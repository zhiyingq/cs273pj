{
 "cells": [
  {
   "cell_type": "code",
   "execution_count": 3,
   "metadata": {},
   "outputs": [],
   "source": [
    "from data_loader_df import *\n",
    "import sys\n",
    "import numpy\n",
    "import pandas as pd"
   ]
  },
  {
   "cell_type": "code",
   "execution_count": 5,
   "metadata": {},
   "outputs": [
    {
     "name": "stderr",
     "output_type": "stream",
     "text": [
      "/home/mke2/anaconda2/lib/python2.7/site-packages/sklearn/utils/validation.py:595: DataConversionWarning: Data with input dtype int64 was converted to float64 by StandardScaler.\n",
      "  warnings.warn(msg, DataConversionWarning)\n"
     ]
    },
    {
     "name": "stdout",
     "output_type": "stream",
     "text": [
      "[[ 1.77428872 -1.1498391  -0.43812161 ...  1.          0.\n",
      "   0.        ]\n",
      " [ 0.86641684  0.24853991 -0.43812161 ...  1.          0.\n",
      "   0.        ]\n",
      " [-0.19276702 -0.04098651 -0.43812161 ...  1.          0.\n",
      "   0.        ]\n",
      " ...\n",
      " [-0.64670296  0.39311853 -0.43812161 ...  1.          0.\n",
      "   0.        ]\n",
      " [-0.64670296  0.07405729 -0.43812161 ...  1.          0.\n",
      "   0.        ]\n",
      " [ 0.94207283 -1.44358749 -0.43812161 ...  1.          0.\n",
      "   0.        ]]\n"
     ]
    }
   ],
   "source": [
    "train_file_path = \"../data/adult.data\"\n",
    "test_file_path = \"../data/adult.test\"\n",
    "train_X, train_Y, _, __, test_X, test_Y = load_all_data(train_file_path, test_file_path, 0, False)\n",
    "print (train_X)"
   ]
  },
  {
   "cell_type": "code",
   "execution_count": null,
   "metadata": {},
   "outputs": [],
   "source": []
  }
 ],
 "metadata": {
  "kernelspec": {
   "display_name": "Python 2",
   "language": "python",
   "name": "python2"
  },
  "language_info": {
   "codemirror_mode": {
    "name": "ipython",
    "version": 2
   },
   "file_extension": ".py",
   "mimetype": "text/x-python",
   "name": "python",
   "nbconvert_exporter": "python",
   "pygments_lexer": "ipython2",
   "version": "2.7.15"
  }
 },
 "nbformat": 4,
 "nbformat_minor": 2
}
