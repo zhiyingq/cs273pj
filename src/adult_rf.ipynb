{
 "cells": [
  {
   "cell_type": "code",
   "execution_count": 1,
   "metadata": {},
   "outputs": [],
   "source": [
    "from data_loader_df import *\n",
    "import sys\n",
    "import numpy\n",
    "import pandas as pd"
   ]
  },
  {
   "cell_type": "code",
   "execution_count": 5,
   "metadata": {},
   "outputs": [],
   "source": [
    "train_file_path = \"../data/adult.data\"\n",
    "test_file_path = \"../data/adult.test\"\n",
    "train_X, train_Y, val_X, val_Y, test_X, test_Y = load_all_data(train_file_path, test_file_path, valid_rate=0.1, is_df=False, norm=False, one_hot=False)\n"
   ]
  },
  {
   "cell_type": "code",
   "execution_count": 17,
   "metadata": {},
   "outputs": [
    {
     "name": "stdout",
     "output_type": "stream",
     "text": [
      "[62 ' Local-gov' 68268 ' HS-grad' 9 ' Married-civ-spouse'\n",
      " ' Transport-moving' ' Husband' ' White' ' Male' 0 0 40 ' United-States']\n",
      "[57 ' Private' 96779 ' 5th-6th' 3 ' Married-civ-spouse' ' Craft-repair'\n",
      " ' Husband' ' White' ' Male' 0 0 40 ' United-States']\n",
      "[25 ' Private' 226802 ' 11th' 7 ' Never-married' ' Machine-op-inspct'\n",
      " ' Own-child' ' Black' ' Male' 0 0 40 ' United-States']\n",
      "(27158, 14) (3004, 14) (15060, 14)\n"
     ]
    }
   ],
   "source": [
    "print train_X[0]\n",
    "print val_X[0]\n",
    "print test_X[0]\n",
    "print train_X.shape, val_X.shape, test_X.shape"
   ]
  },
  {
   "cell_type": "code",
   "execution_count": 23,
   "metadata": {},
   "outputs": [],
   "source": [
    "from sklearn.preprocessing import LabelEncoder\n",
    "#For trees, we should use label encoding rather than one hot to transfrom category feature\n",
    "#preprocess: combine all the data to do label encoding\n",
    "dataset = np.concatenate((train_X, val_X), axis=0)\n",
    "dataset = np.concatenate((dataset, test_X), axis=0)\n",
    "#trasfrom all features if needed\n",
    "for j in xrange(14):#14 features in total\n",
    "    if type(dataset[0][j]) == str:\n",
    "        labelencoder = LabelEncoder()\n",
    "        dataset[:, j] = labelencoder.fit_transform(dataset[:, j])"
   ]
  },
  {
   "cell_type": "code",
   "execution_count": 24,
   "metadata": {},
   "outputs": [
    {
     "name": "stdout",
     "output_type": "stream",
     "text": [
      "[62 1 68268 11 9 2 13 0 4 1 0 0 40 38]\n",
      "(45222, 14)\n"
     ]
    }
   ],
   "source": [
    "#Test! if data is well transformed\n",
    "print dataset[0]\n",
    "print dataset.shape"
   ]
  },
  {
   "cell_type": "code",
   "execution_count": 26,
   "metadata": {},
   "outputs": [
    {
     "name": "stdout",
     "output_type": "stream",
     "text": [
      "[62 1 68268 11 9 2 13 0 4 1 0 0 40 38]\n",
      "[57 2 96779 4 3 2 2 0 4 1 0 0 40 38]\n",
      "[25 2 226802 1 7 4 6 3 2 1 0 0 40 38]\n",
      "(27158, 14) (3004, 14) (15060, 14)\n"
     ]
    }
   ],
   "source": [
    "#split dataset back to train, validation, test\n",
    "train_X, val_X, test_X = dataset[:27158], dataset[27158:(27158+3004)], dataset[(27158+3004):]\n",
    "print train_X[0]\n",
    "print val_X[0]\n",
    "print test_X[0]\n",
    "print train_X.shape, val_X.shape, test_X.shape"
   ]
  },
  {
   "cell_type": "code",
   "execution_count": 27,
   "metadata": {},
   "outputs": [
    {
     "name": "stdout",
     "output_type": "stream",
     "text": [
      "Accuracy: 84.840637 \n"
     ]
    }
   ],
   "source": [
    "from sklearn.ensemble import RandomForestClassifier\n",
    "from sklearn.metrics import confusion_matrix,classification_report,accuracy_score\n",
    "from sklearn.model_selection import train_test_split,cross_val_score,KFold,GridSearchCV\n",
    "\n",
    "clf = RandomForestClassifier(n_estimators=100)\n",
    "#cv_results = cross_val_score(clf,train_X,train_Y,cv=5)\n",
    "#print(\"CV validation accuracy\", cv_results.mean()*100)\n",
    "clf.fit(train_X,train_Y)\n",
    "prediction = clf.predict(test_X)\n",
    "print(\"Accuracy: %f \" % (100*accuracy_score(test_Y, prediction)))"
   ]
  },
  {
   "cell_type": "code",
   "execution_count": 29,
   "metadata": {},
   "outputs": [
    {
     "name": "stdout",
     "output_type": "stream",
     "text": [
      "Accuracy: 99.992636 \n"
     ]
    }
   ],
   "source": [
    "pred_train = clf.predict(train_X)\n",
    "print(\"Accuracy: %f \" % (100*accuracy_score(train_Y, pred_train)))"
   ]
  },
  {
   "cell_type": "code",
   "execution_count": 30,
   "metadata": {},
   "outputs": [
    {
     "name": "stdout",
     "output_type": "stream",
     "text": [
      "Test dataset: Accuracy: 85.391766 \n",
      "Train dataset: Accuracy: 86.007806 \n"
     ]
    }
   ],
   "source": [
    "clf=RandomForestClassifier(n_estimators=50,max_features=5,min_samples_leaf=50)\n",
    "clf.fit(train_X,train_Y)\n",
    "\n",
    "prediction = clf.predict(test_X)\n",
    "print(\"Test dataset: Accuracy: %f \" % (100*accuracy_score(test_Y, prediction)))\n",
    "\n",
    "pred_train = clf.predict(train_X)\n",
    "print(\"Train dataset: Accuracy: %f \" % (100*accuracy_score(train_Y, pred_train)))"
   ]
  },
  {
   "cell_type": "code",
   "execution_count": 11,
   "metadata": {},
   "outputs": [
    {
     "name": "stdout",
     "output_type": "stream",
     "text": [
      "feature significances：[5.87845124e-02 1.86426851e-03 1.09606442e-01 1.18811449e-01\n",
      " 3.01342489e-02 4.62363437e-02 1.23995072e-03 5.51060953e-04\n",
      " 2.26334084e-03 4.44255291e-03 1.63378289e-03 1.30447289e-04\n",
      " 0.00000000e+00 1.53158052e-03 3.59101731e-03 2.27761550e-05\n",
      " 5.72364858e-05 7.55650482e-04 1.46172631e-03 1.07144674e-03\n",
      " 2.52291228e-04 4.35839639e-04 1.69342674e-02 7.49609652e-03\n",
      " 1.02276980e-02 2.49053563e-02 0.00000000e+00 1.20339537e-02\n",
      " 2.45263080e-03 1.08382657e-02 0.00000000e+00 1.38508807e-01\n",
      " 1.66538948e-04 5.42042666e-02 9.95776670e-04 9.38145887e-04\n",
      " 4.88198419e-03 0.00000000e+00 4.09223432e-03 1.77352471e-02\n",
      " 4.27566942e-03 2.48110931e-03 4.00696211e-03 1.18504346e-02\n",
      " 2.04256778e-04 2.63433486e-02 4.18868104e-04 4.87516473e-04\n",
      " 1.36254412e-03 1.22033701e-03 9.22762250e-02 2.38172648e-02\n",
      " 2.23779125e-03 2.06785318e-02 1.40466153e-02 1.39011716e-02\n",
      " 2.27799819e-04 2.18980879e-04 1.91134566e-03 0.00000000e+00\n",
      " 2.20405061e-03 4.01940970e-02 2.08345608e-02 0.00000000e+00\n",
      " 0.00000000e+00 0.00000000e+00 0.00000000e+00 0.00000000e+00\n",
      " 0.00000000e+00 0.00000000e+00 0.00000000e+00 0.00000000e+00\n",
      " 0.00000000e+00 0.00000000e+00 0.00000000e+00 0.00000000e+00\n",
      " 0.00000000e+00 0.00000000e+00 0.00000000e+00 0.00000000e+00\n",
      " 0.00000000e+00 4.47886680e-05 0.00000000e+00 0.00000000e+00\n",
      " 0.00000000e+00 0.00000000e+00 0.00000000e+00 0.00000000e+00\n",
      " 2.41992123e-03 0.00000000e+00 0.00000000e+00 0.00000000e+00\n",
      " 5.39587291e-05 0.00000000e+00 0.00000000e+00 0.00000000e+00\n",
      " 0.00000000e+00 0.00000000e+00 0.00000000e+00 0.00000000e+00\n",
      " 0.00000000e+00 9.92615297e-04 0.00000000e+00 0.00000000e+00]\n"
     ]
    }
   ],
   "source": [
    "print ('feature significances：%s' % clf.feature_importances_)"
   ]
  },
  {
   "cell_type": "code",
   "execution_count": null,
   "metadata": {},
   "outputs": [],
   "source": []
  }
 ],
 "metadata": {
  "kernelspec": {
   "display_name": "Python 2",
   "language": "python",
   "name": "python2"
  },
  "language_info": {
   "codemirror_mode": {
    "name": "ipython",
    "version": 2
   },
   "file_extension": ".py",
   "mimetype": "text/x-python",
   "name": "python",
   "nbconvert_exporter": "python",
   "pygments_lexer": "ipython2",
   "version": "2.7.15"
  }
 },
 "nbformat": 4,
 "nbformat_minor": 2
}
