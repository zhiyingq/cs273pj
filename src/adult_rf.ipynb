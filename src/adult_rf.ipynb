{
 "cells": [
  {
   "cell_type": "code",
   "execution_count": 1,
   "metadata": {},
   "outputs": [],
   "source": [
    "from data_loader_df import *\n",
    "import sys\n",
    "import numpy\n",
    "import pandas as pd"
   ]
  },
  {
   "cell_type": "code",
   "execution_count": 2,
   "metadata": {},
   "outputs": [
    {
     "name": "stderr",
     "output_type": "stream",
     "text": [
      "/home/mke2/anaconda2/lib/python2.7/site-packages/sklearn/utils/validation.py:595: DataConversionWarning: Data with input dtype int64 was converted to float64 by StandardScaler.\n",
      "  warnings.warn(msg, DataConversionWarning)\n"
     ]
    },
    {
     "name": "stdout",
     "output_type": "stream",
     "text": [
      "[[ 1.77428872 -1.1498391  -0.43812161 ...  1.          0.\n",
      "   0.        ]\n",
      " [ 0.86641684  0.24853991 -0.43812161 ...  1.          0.\n",
      "   0.        ]\n",
      " [-0.19276702 -0.04098651 -0.43812161 ...  1.          0.\n",
      "   0.        ]\n",
      " ...\n",
      " [-0.64670296  0.39311853 -0.43812161 ...  1.          0.\n",
      "   0.        ]\n",
      " [-0.64670296  0.07405729 -0.43812161 ...  1.          0.\n",
      "   0.        ]\n",
      " [ 0.94207283 -1.44358749 -0.43812161 ...  1.          0.\n",
      "   0.        ]]\n"
     ]
    }
   ],
   "source": [
    "train_file_path = \"../data/adult.data\"\n",
    "test_file_path = \"../data/adult.test\"\n",
    "train_X, train_Y, _, __, test_X, test_Y = load_all_data(train_file_path, test_file_path, 0, False)\n",
    "print (train_X)"
   ]
  },
  {
   "cell_type": "code",
   "execution_count": 4,
   "metadata": {},
   "outputs": [
    {
     "name": "stdout",
     "output_type": "stream",
     "text": [
      "Accuracy: 84.707835 \n"
     ]
    }
   ],
   "source": [
    "from sklearn.ensemble import RandomForestClassifier\n",
    "from sklearn.metrics import confusion_matrix,classification_report,accuracy_score\n",
    "from sklearn.model_selection import train_test_split,cross_val_score,KFold,GridSearchCV\n",
    "\n",
    "clf = RandomForestClassifier(n_estimators=100)\n",
    "#cv_results = cross_val_score(clf,train_X,train_Y,cv=5)\n",
    "#print(\"CV validation accuracy\", cv_results.mean()*100)\n",
    "clf.fit(train_X,train_Y)\n",
    "prediction = clf.predict(test_X)\n",
    "print(\"Accuracy: %f \" % (100*accuracy_score(test_Y, prediction)))"
   ]
  },
  {
   "cell_type": "code",
   "execution_count": 5,
   "metadata": {},
   "outputs": [
    {
     "data": {
      "text/plain": [
       "3700"
      ]
     },
     "execution_count": 5,
     "metadata": {},
     "output_type": "execute_result"
    }
   ],
   "source": [
    "numpy.sum(test_Y)"
   ]
  },
  {
   "cell_type": "code",
   "execution_count": 7,
   "metadata": {},
   "outputs": [
    {
     "name": "stdout",
     "output_type": "stream",
     "text": [
      "Accuracy: 99.996685 \n"
     ]
    }
   ],
   "source": [
    "pred_train = clf.predict(train_X)\n",
    "print(\"Accuracy: %f \" % (100*accuracy_score(train_Y, pred_train)))"
   ]
  },
  {
   "cell_type": "code",
   "execution_count": 9,
   "metadata": {},
   "outputs": [
    {
     "name": "stdout",
     "output_type": "stream",
     "text": [
      "Test dataset: Accuracy: 83.359894 \n",
      "Train dataset: Accuracy: 83.605199 \n"
     ]
    }
   ],
   "source": [
    "clf=RandomForestClassifier(n_estimators=50,max_features=5,min_samples_leaf=50)\n",
    "clf.fit(train_X,train_Y)\n",
    "\n",
    "prediction = clf.predict(test_X)\n",
    "print(\"Test dataset: Accuracy: %f \" % (100*accuracy_score(test_Y, prediction)))\n",
    "\n",
    "pred_train = clf.predict(train_X)\n",
    "print(\"Train dataset: Accuracy: %f \" % (100*accuracy_score(train_Y, pred_train)))"
   ]
  },
  {
   "cell_type": "code",
   "execution_count": null,
   "metadata": {},
   "outputs": [],
   "source": []
  }
 ],
 "metadata": {
  "kernelspec": {
   "display_name": "Python 2",
   "language": "python",
   "name": "python2"
  },
  "language_info": {
   "codemirror_mode": {
    "name": "ipython",
    "version": 2
   },
   "file_extension": ".py",
   "mimetype": "text/x-python",
   "name": "python",
   "nbconvert_exporter": "python",
   "pygments_lexer": "ipython2",
   "version": "2.7.15"
  }
 },
 "nbformat": 4,
 "nbformat_minor": 2
}
